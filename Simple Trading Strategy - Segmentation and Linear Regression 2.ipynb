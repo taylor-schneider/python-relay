{
 "cells": [
  {
   "cell_type": "markdown",
   "metadata": {},
   "source": [
    "## Trend Segmentation using Smoothing, Velocity"
   ]
  },
  {
   "cell_type": "markdown",
   "metadata": {},
   "source": [
    "# 1. ETL The Data"
   ]
  },
  {
   "cell_type": "markdown",
   "metadata": {},
   "source": [
    "## 1.1 Load libraries\n",
    "First we import the libraries we will be using"
   ]
  },
  {
   "cell_type": "code",
   "execution_count": 1,
   "metadata": {},
   "outputs": [],
   "source": [
    "import numpy "
   ]
  },
  {
   "cell_type": "code",
   "execution_count": 2,
   "metadata": {},
   "outputs": [],
   "source": [
    "import pandas"
   ]
  },
  {
   "cell_type": "code",
   "execution_count": 3,
   "metadata": {},
   "outputs": [],
   "source": [
    "import matplotlib.pyplot as pyplot"
   ]
  },
  {
   "cell_type": "markdown",
   "metadata": {},
   "source": [
    "## 1.2 Load the data"
   ]
  },
  {
   "cell_type": "code",
   "execution_count": 4,
   "metadata": {},
   "outputs": [
    {
     "data": {
      "text/html": [
       "<div>\n",
       "<style scoped>\n",
       "    .dataframe tbody tr th:only-of-type {\n",
       "        vertical-align: middle;\n",
       "    }\n",
       "\n",
       "    .dataframe tbody tr th {\n",
       "        vertical-align: top;\n",
       "    }\n",
       "\n",
       "    .dataframe thead th {\n",
       "        text-align: right;\n",
       "    }\n",
       "</style>\n",
       "<table border=\"1\" class=\"dataframe\">\n",
       "  <thead>\n",
       "    <tr style=\"text-align: right;\">\n",
       "      <th></th>\n",
       "      <th>ticker</th>\n",
       "      <th>interval</th>\n",
       "      <th>date</th>\n",
       "      <th>open</th>\n",
       "      <th>high</th>\n",
       "      <th>low</th>\n",
       "      <th>close</th>\n",
       "      <th>volume</th>\n",
       "    </tr>\n",
       "  </thead>\n",
       "  <tbody>\n",
       "    <tr>\n",
       "      <th>96004</th>\n",
       "      <td>RAND</td>\n",
       "      <td>D</td>\n",
       "      <td>2019-01-01</td>\n",
       "      <td>2.50</td>\n",
       "      <td>2.50</td>\n",
       "      <td>2.50</td>\n",
       "      <td>2.50</td>\n",
       "      <td>0</td>\n",
       "    </tr>\n",
       "    <tr>\n",
       "      <th>95734</th>\n",
       "      <td>OPTT</td>\n",
       "      <td>D</td>\n",
       "      <td>2019-01-01</td>\n",
       "      <td>0.34</td>\n",
       "      <td>0.34</td>\n",
       "      <td>0.34</td>\n",
       "      <td>0.34</td>\n",
       "      <td>0</td>\n",
       "    </tr>\n",
       "    <tr>\n",
       "      <th>95735</th>\n",
       "      <td>ORBC</td>\n",
       "      <td>D</td>\n",
       "      <td>2019-01-01</td>\n",
       "      <td>8.26</td>\n",
       "      <td>8.26</td>\n",
       "      <td>8.26</td>\n",
       "      <td>8.26</td>\n",
       "      <td>0</td>\n",
       "    </tr>\n",
       "    <tr>\n",
       "      <th>95736</th>\n",
       "      <td>ORG</td>\n",
       "      <td>D</td>\n",
       "      <td>2019-01-01</td>\n",
       "      <td>24.49</td>\n",
       "      <td>24.49</td>\n",
       "      <td>24.49</td>\n",
       "      <td>24.49</td>\n",
       "      <td>0</td>\n",
       "    </tr>\n",
       "    <tr>\n",
       "      <th>95737</th>\n",
       "      <td>ORGS</td>\n",
       "      <td>D</td>\n",
       "      <td>2019-01-01</td>\n",
       "      <td>4.68</td>\n",
       "      <td>4.68</td>\n",
       "      <td>4.68</td>\n",
       "      <td>4.68</td>\n",
       "      <td>0</td>\n",
       "    </tr>\n",
       "  </tbody>\n",
       "</table>\n",
       "</div>"
      ],
      "text/plain": [
       "      ticker interval       date   open   high    low  close  volume\n",
       "96004   RAND        D 2019-01-01   2.50   2.50   2.50   2.50       0\n",
       "95734   OPTT        D 2019-01-01   0.34   0.34   0.34   0.34       0\n",
       "95735   ORBC        D 2019-01-01   8.26   8.26   8.26   8.26       0\n",
       "95736    ORG        D 2019-01-01  24.49  24.49  24.49  24.49       0\n",
       "95737   ORGS        D 2019-01-01   4.68   4.68   4.68   4.68       0"
      ]
     },
     "execution_count": 4,
     "metadata": {},
     "output_type": "execute_result"
    }
   ],
   "source": [
    "from Relay import Utilities\n",
    "\n",
    "# Read the file into a dataframe\n",
    "file_path = \"nasdaq_2019.csv\"\n",
    "converter_mapping = {\n",
    "    \"date\": Utilities.convert_date_string_to_date\n",
    "}\n",
    "nasdaq_dataframe = pandas.read_csv(file_path, converters=converter_mapping)\n",
    "\n",
    "# Sort based on the date column\n",
    "nasdaq_dataframe = nasdaq_dataframe.sort_values(\"date\")\n",
    "nasdaq_dataframe.head()"
   ]
  },
  {
   "cell_type": "markdown",
   "metadata": {},
   "source": [
    "## 1.3 Get a list of tickers\n",
    "Next we get a list of the tickers. This is likely something we should have on hand before we run the algos.\n",
    "\n",
    "We will use the tickers as the names of the queues. As we need to attach listeners to the queues, again we should know the names of the tickers ahead of time."
   ]
  },
  {
   "cell_type": "code",
   "execution_count": 5,
   "metadata": {},
   "outputs": [
    {
     "data": {
      "text/plain": [
       "2113    AABA\n",
       "2114     AAL\n",
       "2115    AAME\n",
       "2116    AAOI\n",
       "2117    AAON\n",
       "dtype: object"
      ]
     },
     "execution_count": 5,
     "metadata": {},
     "output_type": "execute_result"
    }
   ],
   "source": [
    "tickers = pandas.Series(nasdaq_dataframe[\"ticker\"].unique()).sort_values()\n",
    "tickers.head()"
   ]
  },
  {
   "cell_type": "markdown",
   "metadata": {},
   "source": [
    "To make our lives easier we will only use one ticker at a time"
   ]
  },
  {
   "cell_type": "code",
   "execution_count": 6,
   "metadata": {},
   "outputs": [
    {
     "data": {
      "text/plain": [
       "0    AABA\n",
       "dtype: object"
      ]
     },
     "execution_count": 6,
     "metadata": {},
     "output_type": "execute_result"
    }
   ],
   "source": [
    "mock_tickers = pandas.Series([\"AABA\"])\n",
    "mock_tickers"
   ]
  },
  {
   "cell_type": "markdown",
   "metadata": {},
   "source": [
    "# Visualize the data"
   ]
  },
  {
   "cell_type": "code",
   "execution_count": 7,
   "metadata": {},
   "outputs": [],
   "source": [
    "aaba_dataframe = nasdaq_dataframe.loc[nasdaq_dataframe.ticker == \"AABA\"]\n",
    "aaba_dataframe.index = range(0, aaba_dataframe.shape[0]) # reset the index to make our life easier"
   ]
  },
  {
   "cell_type": "code",
   "execution_count": 12,
   "metadata": {},
   "outputs": [
    {
     "data": {
      "text/plain": [
       "<matplotlib.collections.PathCollection at 0x1cfeecd0>"
      ]
     },
     "execution_count": 12,
     "metadata": {},
     "output_type": "execute_result"
    },
    {
     "data": {
      "image/png": "[encoded data removed]",
      "text/plain": [
       "<Figure size 1440x432 with 1 Axes>"
      ]
     },
     "metadata": {
      "needs_background": "light"
     },
     "output_type": "display_data"
    }
   ],
   "source": [
    "figure, axis = pyplot.subplots(nrows=1,ncols=1,figsize=(20, 6))\n",
    "axis.scatter(aaba_dataframe[\"date\"], aaba_dataframe[\"open\"], color=\"green\")"
   ]
  },
  {
   "cell_type": "markdown",
   "metadata": {},
   "source": [
    "# Analye the data and generate signals"
   ]
  },
  {
   "cell_type": "code",
   "execution_count": 17,
   "metadata": {},
   "outputs": [],
   "source": [
    "# Generate a list of messages\n",
    "n = aaba_dataframe.shape[0]\n",
    "messages = []\n",
    "for x in range(0, n):\n",
    "    df = aaba_dataframe.loc[[x]]\n",
    "    message = df.to_json(date_unit='ns', orient='records')\n",
    "    messages.append(message)\n",
    "\n",
    "# Create a dataframe to store the results\n",
    "df = pandas.DataFrame()\n",
    "\n",
    "# Setup a mock relay\n",
    "class DummyRelay():\n",
    "    def process(self, *args, **kwargs):\n",
    "\n",
    "        message = kwargs[\"message\"]\n",
    "        df = pandas.read_json(message, orient='records')\n",
    "        if self.dataframe.shape == (0, 0):\n",
    "            # https://pandas.pydata.org/pandas-docs/stable/reference/api/pandas.read_json.html\n",
    "            self.dataframe = df\n",
    "        else:\n",
    "            self.dataframe.loc[self.dataframe.shape[0]] = df.loc[0]\n",
    "            \n",
    "relay = DummyRelay()\n",
    "relay.dataframe = pandas.DataFrame()\n",
    "\n",
    "# Setup a listener to process the messages\n",
    "from Relay.ActiveMQ.ActiveMQRelayListener import ActiveMQRelayListener\n",
    "relay.listener = ActiveMQRelayListener()\n",
    "\n",
    "# Add callbacks to the listener\n",
    "from Relay.Callbacks.CallbackMapping import CallbackMapping\n",
    "import Relay.Callbacks.PandasCallbacks as PandasCallbacks\n",
    "\n",
    "relay.listener.callback_mappings.append(CallbackMapping(relay.process, [], {}))\n",
    "relay.listener.callback_mappings.append(CallbackMapping(\n",
    "    PandasCallbacks.calculate_exponential_moving_average,\n",
    "    [],\n",
    "    {\n",
    "        \"column_name\": \"open\",\n",
    "        \"new_column_suffix\": \"_ewma\",\n",
    "        \"window\": 3,\n",
    "        \"decay\": 0.9,\n",
    "        \"relay\": relay\n",
    "    }\n",
    "))\n",
    "relay.listener.callback_mappings.append(CallbackMapping(\n",
    "    PandasCallbacks.calculate_velocity,\n",
    "    [],\n",
    "    {\n",
    "        \"column_name\": \"open_ewma\",\n",
    "        \"new_column_suffix\": \"_v\",\n",
    "        \"relay\": relay\n",
    "    }\n",
    "))\n",
    "relay.listener.callback_mappings.append(CallbackMapping(\n",
    "    PandasCallbacks.calculate_inflection_point,\n",
    "    [],\n",
    "    {\n",
    "        \"column_name\": \"open_ewma_v\",\n",
    "        \"new_column_suffix\": \"_ip\",\n",
    "        \"relay\": relay\n",
    "    }\n",
    "))\n",
    "relay.listener.callback_mappings.append(CallbackMapping(\n",
    "    PandasCallbacks.calculate_ordinals,\n",
    "    [],\n",
    "    {\n",
    "        \"column_name\": \"date\",\n",
    "        \"new_column_suffix\": \"_ord\",\n",
    "        \"relay\": relay\n",
    "    }\n",
    "))\n",
    "relay.listener.callback_mappings.append(CallbackMapping(\n",
    "    PandasCallbacks.linear_regression_prediction,\n",
    "    [],\n",
    "    {\n",
    "        \"column_name\": \"open\",\n",
    "        \"new_column_suffix\": \"_pred\",\n",
    "        \"train_x_name\": \"date_ord\",\n",
    "        \"train_y_name\": \"open\",\n",
    "        \"ip_column_name\": \"open_ewma_v_ip\",\n",
    "        \"relay\": relay\n",
    "    }\n",
    "))\n",
    "relay.listener.callback_mappings.append(CallbackMapping(\n",
    "    PandasCallbacks.determine_buy_sell_signal,\n",
    "    [],\n",
    "    {\n",
    "        \"column_name\": \"open\",\n",
    "        \"pred_column_name\": \"open_pred\",\n",
    "        \"relay\": relay\n",
    "    }\n",
    "))\n",
    "\n",
    "\n",
    "# Process the messages\n",
    "for message in messages:\n",
    "    headers = [None]\n",
    "    relay.listener.on_message(headers, message)\n",
    "\n",
    "\n",
    "aaba_dataframe = relay.dataframe"
   ]
  },
  {
   "cell_type": "code",
   "execution_count": 21,
   "metadata": {},
   "outputs": [
    {
     "data": {
      "text/html": [
       "<div>\n",
       "<style scoped>\n",
       "    .dataframe tbody tr th:only-of-type {\n",
       "        vertical-align: middle;\n",
       "    }\n",
       "\n",
       "    .dataframe tbody tr th {\n",
       "        vertical-align: top;\n",
       "    }\n",
       "\n",
       "    .dataframe thead th {\n",
       "        text-align: right;\n",
       "    }\n",
       "</style>\n",
       "<table border=\"1\" class=\"dataframe\">\n",
       "  <thead>\n",
       "    <tr style=\"text-align: right;\">\n",
       "      <th></th>\n",
       "      <th>ticker</th>\n",
       "      <th>interval</th>\n",
       "      <th>date</th>\n",
       "      <th>open</th>\n",
       "      <th>high</th>\n",
       "      <th>low</th>\n",
       "      <th>close</th>\n",
       "      <th>volume</th>\n",
       "      <th>open_ewma</th>\n",
       "      <th>open_ewma_v</th>\n",
       "      <th>open_ewma_v_ip</th>\n",
       "      <th>date_ord</th>\n",
       "      <th>open_pred</th>\n",
       "      <th>open_buy</th>\n",
       "      <th>open_sell</th>\n",
       "    </tr>\n",
       "  </thead>\n",
       "  <tbody>\n",
       "    <tr>\n",
       "      <th>0</th>\n",
       "      <td>AABA</td>\n",
       "      <td>D</td>\n",
       "      <td>2019-01-01</td>\n",
       "      <td>57.94</td>\n",
       "      <td>57.94</td>\n",
       "      <td>57.94</td>\n",
       "      <td>57.94</td>\n",
       "      <td>0</td>\n",
       "      <td>NaN</td>\n",
       "      <td>NaN</td>\n",
       "      <td>0</td>\n",
       "      <td>737060</td>\n",
       "      <td>NaN</td>\n",
       "      <td>NaN</td>\n",
       "      <td>NaN</td>\n",
       "    </tr>\n",
       "    <tr>\n",
       "      <th>1</th>\n",
       "      <td>AABA</td>\n",
       "      <td>D</td>\n",
       "      <td>2019-01-02</td>\n",
       "      <td>56.78</td>\n",
       "      <td>58.01</td>\n",
       "      <td>56.47</td>\n",
       "      <td>57.49</td>\n",
       "      <td>10532400</td>\n",
       "      <td>NaN</td>\n",
       "      <td>NaN</td>\n",
       "      <td>0</td>\n",
       "      <td>737061</td>\n",
       "      <td>NaN</td>\n",
       "      <td>NaN</td>\n",
       "      <td>NaN</td>\n",
       "    </tr>\n",
       "    <tr>\n",
       "      <th>2</th>\n",
       "      <td>AABA</td>\n",
       "      <td>D</td>\n",
       "      <td>2019-01-03</td>\n",
       "      <td>56.48</td>\n",
       "      <td>56.85</td>\n",
       "      <td>55.09</td>\n",
       "      <td>55.53</td>\n",
       "      <td>8506900</td>\n",
       "      <td>56.480000</td>\n",
       "      <td>NaN</td>\n",
       "      <td>0</td>\n",
       "      <td>737062</td>\n",
       "      <td>NaN</td>\n",
       "      <td>NaN</td>\n",
       "      <td>NaN</td>\n",
       "    </tr>\n",
       "    <tr>\n",
       "      <th>3</th>\n",
       "      <td>AABA</td>\n",
       "      <td>D</td>\n",
       "      <td>2019-01-04</td>\n",
       "      <td>56.50</td>\n",
       "      <td>59.38</td>\n",
       "      <td>56.50</td>\n",
       "      <td>58.72</td>\n",
       "      <td>9438700</td>\n",
       "      <td>56.614391</td>\n",
       "      <td>0.134391</td>\n",
       "      <td>1</td>\n",
       "      <td>737063</td>\n",
       "      <td>NaN</td>\n",
       "      <td>NaN</td>\n",
       "      <td>NaN</td>\n",
       "    </tr>\n",
       "    <tr>\n",
       "      <th>4</th>\n",
       "      <td>AABA</td>\n",
       "      <td>D</td>\n",
       "      <td>2019-01-07</td>\n",
       "      <td>58.90</td>\n",
       "      <td>60.20</td>\n",
       "      <td>58.45</td>\n",
       "      <td>59.64</td>\n",
       "      <td>9004700</td>\n",
       "      <td>57.844129</td>\n",
       "      <td>1.229738</td>\n",
       "      <td>0</td>\n",
       "      <td>737066</td>\n",
       "      <td>NaN</td>\n",
       "      <td>NaN</td>\n",
       "      <td>NaN</td>\n",
       "    </tr>\n",
       "    <tr>\n",
       "      <th>5</th>\n",
       "      <td>AABA</td>\n",
       "      <td>D</td>\n",
       "      <td>2019-01-08</td>\n",
       "      <td>60.70</td>\n",
       "      <td>61.41</td>\n",
       "      <td>59.50</td>\n",
       "      <td>61.04</td>\n",
       "      <td>6918600</td>\n",
       "      <td>59.456595</td>\n",
       "      <td>1.612466</td>\n",
       "      <td>0</td>\n",
       "      <td>737067</td>\n",
       "      <td>NaN</td>\n",
       "      <td>NaN</td>\n",
       "      <td>NaN</td>\n",
       "    </tr>\n",
       "    <tr>\n",
       "      <th>6</th>\n",
       "      <td>AABA</td>\n",
       "      <td>D</td>\n",
       "      <td>2019-01-09</td>\n",
       "      <td>61.90</td>\n",
       "      <td>63.47</td>\n",
       "      <td>61.72</td>\n",
       "      <td>62.94</td>\n",
       "      <td>11313600</td>\n",
       "      <td>60.893827</td>\n",
       "      <td>1.437232</td>\n",
       "      <td>0</td>\n",
       "      <td>737068</td>\n",
       "      <td>60.353846</td>\n",
       "      <td>NaN</td>\n",
       "      <td>61.90</td>\n",
       "    </tr>\n",
       "    <tr>\n",
       "      <th>7</th>\n",
       "      <td>AABA</td>\n",
       "      <td>D</td>\n",
       "      <td>2019-01-10</td>\n",
       "      <td>62.31</td>\n",
       "      <td>63.15</td>\n",
       "      <td>61.95</td>\n",
       "      <td>63.11</td>\n",
       "      <td>6199700</td>\n",
       "      <td>61.801292</td>\n",
       "      <td>0.907465</td>\n",
       "      <td>0</td>\n",
       "      <td>737069</td>\n",
       "      <td>61.642857</td>\n",
       "      <td>NaN</td>\n",
       "      <td>62.31</td>\n",
       "    </tr>\n",
       "    <tr>\n",
       "      <th>8</th>\n",
       "      <td>AABA</td>\n",
       "      <td>D</td>\n",
       "      <td>2019-01-11</td>\n",
       "      <td>62.87</td>\n",
       "      <td>63.57</td>\n",
       "      <td>62.53</td>\n",
       "      <td>62.88</td>\n",
       "      <td>3692300</td>\n",
       "      <td>62.474541</td>\n",
       "      <td>0.673249</td>\n",
       "      <td>0</td>\n",
       "      <td>737070</td>\n",
       "      <td>62.523585</td>\n",
       "      <td>NaN</td>\n",
       "      <td>62.87</td>\n",
       "    </tr>\n",
       "    <tr>\n",
       "      <th>9</th>\n",
       "      <td>AABA</td>\n",
       "      <td>D</td>\n",
       "      <td>2019-01-14</td>\n",
       "      <td>61.77</td>\n",
       "      <td>62.46</td>\n",
       "      <td>61.15</td>\n",
       "      <td>62.29</td>\n",
       "      <td>8761100</td>\n",
       "      <td>62.133585</td>\n",
       "      <td>-0.340956</td>\n",
       "      <td>1</td>\n",
       "      <td>737073</td>\n",
       "      <td>NaN</td>\n",
       "      <td>NaN</td>\n",
       "      <td>NaN</td>\n",
       "    </tr>\n",
       "  </tbody>\n",
       "</table>\n",
       "</div>"
      ],
      "text/plain": [
       "  ticker interval       date   open   high    low  close    volume  open_ewma  \\\n",
       "0   AABA        D 2019-01-01  57.94  57.94  57.94  57.94         0        NaN   \n",
       "1   AABA        D 2019-01-02  56.78  58.01  56.47  57.49  10532400        NaN   \n",
       "2   AABA        D 2019-01-03  56.48  56.85  55.09  55.53   8506900  56.480000   \n",
       "3   AABA        D 2019-01-04  56.50  59.38  56.50  58.72   9438700  56.614391   \n",
       "4   AABA        D 2019-01-07  58.90  60.20  58.45  59.64   9004700  57.844129   \n",
       "5   AABA        D 2019-01-08  60.70  61.41  59.50  61.04   6918600  59.456595   \n",
       "6   AABA        D 2019-01-09  61.90  63.47  61.72  62.94  11313600  60.893827   \n",
       "7   AABA        D 2019-01-10  62.31  63.15  61.95  63.11   6199700  61.801292   \n",
       "8   AABA        D 2019-01-11  62.87  63.57  62.53  62.88   3692300  62.474541   \n",
       "9   AABA        D 2019-01-14  61.77  62.46  61.15  62.29   8761100  62.133585   \n",
       "\n",
       "   open_ewma_v  open_ewma_v_ip  date_ord  open_pred  open_buy  open_sell  \n",
       "0          NaN               0    737060        NaN       NaN        NaN  \n",
       "1          NaN               0    737061        NaN       NaN        NaN  \n",
       "2          NaN               0    737062        NaN       NaN        NaN  \n",
       "3     0.134391               1    737063        NaN       NaN        NaN  \n",
       "4     1.229738               0    737066        NaN       NaN        NaN  \n",
       "5     1.612466               0    737067        NaN       NaN        NaN  \n",
       "6     1.437232               0    737068  60.353846       NaN      61.90  \n",
       "7     0.907465               0    737069  61.642857       NaN      62.31  \n",
       "8     0.673249               0    737070  62.523585       NaN      62.87  \n",
       "9    -0.340956               1    737073        NaN       NaN        NaN  "
      ]
     },
     "execution_count": 21,
     "metadata": {},
     "output_type": "execute_result"
    }
   ],
   "source": [
    "aaba_dataframe.head(10)"
   ]
  },
  {
   "cell_type": "code",
   "execution_count": 18,
   "metadata": {},
   "outputs": [
    {
     "data": {
      "text/plain": [
       "<matplotlib.collections.PathCollection at 0x541b9d0>"
      ]
     },
     "execution_count": 18,
     "metadata": {},
     "output_type": "execute_result"
    },
    {
     "data": {
      "image/png": "[encoded data removed]",
      "text/plain": [
       "<Figure size 1440x432 with 1 Axes>"
      ]
     },
     "metadata": {
      "needs_background": "light"
     },
     "output_type": "display_data"
    }
   ],
   "source": [
    "\n",
    "figure, axis = pyplot.subplots(nrows=1,ncols=1,figsize=(20, 6))\n",
    "axis.scatter(aaba_dataframe[\"date\"], aaba_dataframe[\"open\"], color=\"blue\")\n",
    "axis.scatter(aaba_dataframe[\"date\"], aaba_dataframe[\"open_buy\"], color=\"green\")\n",
    "axis.scatter(aaba_dataframe[\"date\"], aaba_dataframe[\"open_sell\"], color=\"red\")"
   ]
  },
  {
   "cell_type": "code",
   "execution_count": null,
   "metadata": {},
   "outputs": [],
   "source": []
  },
  {
   "cell_type": "code",
   "execution_count": null,
   "metadata": {},
   "outputs": [],
   "source": []
  },
  {
   "cell_type": "code",
   "execution_count": null,
   "metadata": {},
   "outputs": [],
   "source": []
  },
  {
   "cell_type": "code",
   "execution_count": null,
   "metadata": {},
   "outputs": [],
   "source": []
  },
  {
   "cell_type": "code",
   "execution_count": null,
   "metadata": {},
   "outputs": [],
   "source": []
  },
  {
   "cell_type": "code",
   "execution_count": null,
   "metadata": {},
   "outputs": [],
   "source": []
  },
  {
   "cell_type": "code",
   "execution_count": null,
   "metadata": {},
   "outputs": [],
   "source": []
  }
 ],
 "metadata": {
  "kernelspec": {
   "display_name": "Python 3",
   "language": "python",
   "name": "python3"
  },
  "language_info": {
   "codemirror_mode": {
    "name": "ipython",
    "version": 3
   },
   "file_extension": ".py",
   "mimetype": "text/x-python",
   "name": "python",
   "nbconvert_exporter": "python",
   "pygments_lexer": "ipython3",
   "version": "3.8.0"
  }
 },
 "nbformat": 4,
 "nbformat_minor": 4
}
